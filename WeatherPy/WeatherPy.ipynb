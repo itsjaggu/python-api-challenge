{
 "cells": [
  {
   "cell_type": "markdown",
   "metadata": {},
   "source": [
    "# WeatherPy\n",
    "----\n",
    "\n",
    "#### Observations and Insights\n",
    "* Scatter plot of Latitude Vs Temperature shows that as you move away from equator in either direction the Max Temperature of the palce decresaes\n",
    "* Humidity tends to be higher as we move away from Equator\n",
    "* There is a positive correlation between Cloudiness and Latitude\n",
    "* There is negligible correlation between Windspeed and Latitude"
   ]
  },
  {
   "cell_type": "code",
   "execution_count": null,
   "metadata": {
    "scrolled": true
   },
   "outputs": [],
   "source": [
    "# Dependencies and Setup\n",
    "import matplotlib.pyplot as plt\n",
    "import pandas as pd\n",
    "import numpy as np\n",
    "import requests\n",
    "import time\n",
    "from scipy.stats import linregress\n",
    "from datetime import datetime\n",
    "\n",
    "# Import API key\n",
    "from api_keys import weather_api_key\n",
    "\n",
    "# Incorporated citipy to determine city based on latitude and longitude\n",
    "from citipy import citipy\n",
    "\n",
    "# Ouput Directory for chart images\n",
    "output_dir = \"../output_data/\"\n",
    "\n",
    "# Output File for weather data (CSV)\n",
    "output_data_file = \"../output_data/cities.csv\"\n",
    "\n",
    "\n",
    "# Range of latitudes and longitudes\n",
    "lat_range = (-90, 90)\n",
    "lng_range = (-180, 180)\n",
    "\n",
    "# Getting date when this notebook was executed\n",
    "today_date = datetime.today().strftime('%m/%d/%Y')"
   ]
  },
  {
   "cell_type": "markdown",
   "metadata": {},
   "source": [
    "## Generate Cities List"
   ]
  },
  {
   "cell_type": "code",
   "execution_count": null,
   "metadata": {},
   "outputs": [],
   "source": [
    "# List for holding lat_lngs and cities\n",
    "lat_lngs = []\n",
    "cities = []\n",
    "\n",
    "# Creatint a set of random lat and lng combinations\n",
    "lats = np.random.uniform(lat_range[0], lat_range[1], size=1500)\n",
    "lngs = np.random.uniform(lng_range[0], lng_range[1], size=1500)\n",
    "lat_lngs = zip(lats, lngs)\n",
    "\n",
    "# Identify nearest city for each lat, lng combination\n",
    "for lat_lng in lat_lngs:\n",
    "    city = citipy.nearest_city(lat_lng[0], lat_lng[1]).city_name\n",
    "    \n",
    "    # If the city is unique, then add it to a our cities list\n",
    "    if city not in cities:\n",
    "        cities.append(city)\n",
    "\n",
    "# Print the city count to confirm sufficient count\n",
    "print(len(cities))\n",
    "\n",
    "# Creating subset of cities in count of 50\n",
    "n = 50\n",
    "def divide_cities(cities, n):\n",
    "    for i in range(0, len(cities), n):\n",
    "        yield cities[i:i + n]\n",
    "cities = list(divide_cities(cities, n))"
   ]
  },
  {
   "cell_type": "markdown",
   "metadata": {},
   "source": [
    "### Openweathermap API Calls"
   ]
  },
  {
   "cell_type": "code",
   "execution_count": null,
   "metadata": {
    "scrolled": true
   },
   "outputs": [],
   "source": [
    "# Configuring gmaps information.\n",
    "url = \"http://api.openweathermap.org/data/2.5/weather?\"\n",
    "units = \"imperial\"\n",
    "\n",
    "# Building partial query URL to be used for data pull request\n",
    "query_url = f\"{url}appid={weather_api_key}&units={units}&q=\"\n",
    "\n",
    "# creating list for response results to be stored\n",
    "citynames = []\n",
    "lat = []\n",
    "lon = []\n",
    "temp_max = []\n",
    "humidity = []\n",
    "cloudiness = []\n",
    "windspeed = []\n",
    "country = []\n",
    "date = []\n",
    "\n",
    "print(\"Begining Data Retrieval\")\n",
    "print(\"------------------------------\")\n",
    "    \n",
    "# looping through cities, making API request and append desired results into respective list\n",
    "for idx1, city_list in enumerate(cities, start = 1):\n",
    "    for idx2, city in enumerate(city_list):\n",
    "        try:\n",
    "            response = requests.get(query_url + city).json()\n",
    "            print(f\"Processing Record {idx2} of set {idx1} | {city}\")\n",
    "            citynames.append(response['name'])\n",
    "            lat.append(response['coord']['lat'])\n",
    "            lon.append(response['coord']['lon'])\n",
    "            temp_max.append(response['main']['temp_max'])\n",
    "            humidity.append(response['main']['humidity'])\n",
    "            cloudiness.append(response['clouds']['all'])\n",
    "            windspeed.append(response['wind']['speed'])\n",
    "            country.append(response['sys']['country'])\n",
    "            date.append(response['dt'])\n",
    "        except KeyError:\n",
    "            print(\"City not found. Skipping...\")\n",
    "    \n",
    "    \n",
    "print(\"------------------------------\")\n",
    "print(\"Data Retrieval Complete\")\n",
    "print(\"------------------------------\")"
   ]
  },
  {
   "cell_type": "markdown",
   "metadata": {},
   "source": [
    "### Convert Raw Data to DataFrame"
   ]
  },
  {
   "cell_type": "code",
   "execution_count": null,
   "metadata": {},
   "outputs": [],
   "source": [
    "# Building a dataset from the response data saved in data lists.\n",
    "\n",
    "weather_data = {\"City\": citynames\n",
    "                ,\"Lat\": lat\n",
    "                ,\"Lon\": lon\n",
    "                ,\"Max Temp\": temp_max\n",
    "                ,\"Humidity\": humidity\n",
    "                ,\"Cloudiness\": cloudiness\n",
    "                ,\"Windspeed\": windspeed\n",
    "                ,\"Country\": country\n",
    "                ,\"Date\": date\n",
    "               }\n",
    "\n",
    "# Converting the dataset into a Pandas Dataframe\n",
    "weather_data = pd.DataFrame(weather_data)\n",
    "\n",
    "# Previewing the Dataframe\n",
    "weather_data.head()"
   ]
  },
  {
   "cell_type": "code",
   "execution_count": null,
   "metadata": {},
   "outputs": [],
   "source": [
    "# Describing the dataframe to understand limits in the data\n",
    "weather_data.describe()"
   ]
  },
  {
   "cell_type": "markdown",
   "metadata": {},
   "source": [
    "## Inspecting the data and removing the cities where the humidity > 100%."
   ]
  },
  {
   "cell_type": "code",
   "execution_count": null,
   "metadata": {},
   "outputs": [],
   "source": [
    "# Cleaning Weather data from dataframe, where humidity % is greater than 100\n",
    "clean_weather_data = weather_data[weather_data[\"Humidity\"]<=100.00]\n",
    "\n",
    "# Describing the dataframe again to check the data limits\n",
    "clean_weather_data.describe()"
   ]
  },
  {
   "cell_type": "code",
   "execution_count": null,
   "metadata": {},
   "outputs": [],
   "source": [
    "# Previewing the Clean data\n",
    "clean_weather_data.head()"
   ]
  },
  {
   "cell_type": "code",
   "execution_count": null,
   "metadata": {},
   "outputs": [],
   "source": [
    "# Naming the index of the dataframe for export to csv\n",
    "clean_weather_data.index.names = [\"City_ID\"]\n",
    "\n",
    "# Exporting the data to CSV file\n",
    "clean_weather_data.to_csv(output_data_file)"
   ]
  },
  {
   "cell_type": "markdown",
   "metadata": {},
   "source": [
    "## Plotting the Data"
   ]
  },
  {
   "cell_type": "markdown",
   "metadata": {},
   "source": [
    "## Latitude vs. Temperature Plot"
   ]
  },
  {
   "cell_type": "code",
   "execution_count": null,
   "metadata": {
    "scrolled": true
   },
   "outputs": [],
   "source": [
    "# Plotting scatter plot for Latitude Vs Temperature from Cleaned Data\n",
    "plot_chart = plt.scatter(lat, temp_max, marker=\"o\", facecolors=\"green\", alpha=0.75)\n",
    "\n",
    "# Setting up chart display parameters\n",
    "plt.title(f\"City Latitude vs. Max Temperature ({today_date})\")\n",
    "plt.xlabel(\"Latitude\")\n",
    "plt.ylabel(\"Max Temperature (F)\")\n",
    "plt.show()\n",
    "\n",
    "# Exporting chart to output folder in png format\n",
    "export_chart = plot_chart.get_figure()\n",
    "file_name = \"Lat Vs Temp Plot.png\"\n",
    "export_chart.savefig(output_dir + file_name)\n"
   ]
  },
  {
   "cell_type": "markdown",
   "metadata": {},
   "source": []
  },
  {
   "cell_type": "markdown",
   "metadata": {},
   "source": [
    "#### Observations\n",
    "* Above scatter plot of Latitude Vs Temperature shows that as you move away from equator in either direction the Max Temperature of the palce decresaes"
   ]
  },
  {
   "cell_type": "markdown",
   "metadata": {},
   "source": [
    "## Latitude vs. Humidity Plot"
   ]
  },
  {
   "cell_type": "code",
   "execution_count": null,
   "metadata": {
    "scrolled": true
   },
   "outputs": [],
   "source": [
    "# Plotting scatter plot for Latitude Vs Humidity from Cleaned Data\n",
    "plot_chart = plt.scatter(lat, humidity, marker=\"o\", facecolors=\"green\"\n",
    "            , alpha=0.75)\n",
    "\n",
    "# Setting up chart display parameters\n",
    "plt.title(f\"City Latitude vs. Humidity ({today_date})\")\n",
    "plt.xlabel(\"Latitude\")\n",
    "plt.ylabel(\"humidity (%)\")\n",
    "plt.show()\n",
    "\n",
    "# Exporting chart to output folder in png format\n",
    "export_chart = plot_chart.get_figure()\n",
    "file_name = \"Lat Vs Humidity Plot.png\"\n",
    "export_chart.savefig(output_dir + file_name)"
   ]
  },
  {
   "cell_type": "markdown",
   "metadata": {},
   "source": [
    "#### Observations\n",
    "* Above scatter plot of Latitude Vs Humidity shows that Humidity tends to be higher as we move away from Equator towards Northern Hemisphere"
   ]
  },
  {
   "cell_type": "markdown",
   "metadata": {},
   "source": [
    "## Latitude vs. Cloudiness Plot"
   ]
  },
  {
   "cell_type": "code",
   "execution_count": null,
   "metadata": {},
   "outputs": [],
   "source": [
    "# Plotting scatter plot for Latitude Vs Cloudiness from Cleaned Data\n",
    "plot_chart = plt.scatter(lat, cloudiness , marker=\"o\", facecolors=\"green\"\n",
    "            , alpha=0.75)\n",
    "\n",
    "# Setting up chart display parameters\n",
    "plt.title(f\"City Latitude vs. Cloudiness ({today_date})\")\n",
    "plt.xlabel(\"Latitude\")\n",
    "plt.ylabel(\"Cloudiness (%)\")\n",
    "plt.show()\n",
    "\n",
    "# Exporting chart to output folder in png format\n",
    "export_chart = plot_chart.get_figure()\n",
    "file_name = \"Lat Vs Cloudiness(%) Plot.png\"\n",
    "export_chart.savefig(output_dir + file_name)\n"
   ]
  },
  {
   "cell_type": "markdown",
   "metadata": {},
   "source": [
    "#### Observations\n",
    "* It is difficult to interprete any relationship between Latitude and cloudiness."
   ]
  },
  {
   "cell_type": "markdown",
   "metadata": {},
   "source": [
    "## Latitude vs. Wind Speed Plot"
   ]
  },
  {
   "cell_type": "code",
   "execution_count": null,
   "metadata": {
    "scrolled": true
   },
   "outputs": [],
   "source": [
    "# Plotting scatter plot for Latitude Vs Windspeed from Cleaned Data\n",
    "plot_chart = plt.scatter(lat, windspeed, marker=\"o\", facecolors=\"green\"\n",
    "            , alpha=0.75)\n",
    "\n",
    "# Setting up chart display parameters\n",
    "plt.title(f\"City Latitude vs. Wind Speed ({today_date})\")\n",
    "plt.xlabel(\"Latitude\")\n",
    "plt.ylabel(\"Wind Speed (mph)\")\n",
    "plt.show()\n",
    "\n",
    "# Exporting chart to output folder in png format\n",
    "export_chart = plot_chart.get_figure()\n",
    "file_name = \"Lat Vs Wind Speed Plot.png\"\n",
    "export_chart.savefig(output_dir + file_name)\n"
   ]
  },
  {
   "cell_type": "markdown",
   "metadata": {},
   "source": [
    "#### Observations\n",
    "* There are very few cities with windspeed > 25 mph and those are in Northern Hemisphere"
   ]
  },
  {
   "cell_type": "markdown",
   "metadata": {},
   "source": [
    "## Linear Regression"
   ]
  },
  {
   "cell_type": "code",
   "execution_count": null,
   "metadata": {},
   "outputs": [],
   "source": [
    "# Creating 2 dataframes for Northern and Southern Hemisphere\n",
    "weather_data_n = clean_weather_data[clean_weather_data[\"Lat\"]>=0.00]\n",
    "weather_data_s = clean_weather_data[clean_weather_data[\"Lat\"]<0.00]"
   ]
  },
  {
   "cell_type": "markdown",
   "metadata": {},
   "source": [
    "####  Northern Hemisphere - Max Temp vs. Latitude Linear Regression"
   ]
  },
  {
   "cell_type": "code",
   "execution_count": null,
   "metadata": {
    "scrolled": true
   },
   "outputs": [],
   "source": [
    "# Setting parameters for Linear Regression\n",
    "x_axis = weather_data_n[\"Lat\"]\n",
    "y_axis = weather_data_n[\"Max Temp\"]\n",
    "(slope, intercept, rvalue, pvalue, stderr) = linregress(x_axis, y_axis)\n",
    "\n",
    "# Calculating and storing predicted values from regression equation\n",
    "regress_values = x_axis * slope + intercept\n",
    "line_eq = \"y = \" + str(round(slope,2)) + \"x + \" + str(round(intercept,2))\n",
    "plot_chart = plt.scatter(x_axis,y_axis)\n",
    "plt.plot(x_axis,regress_values,\"r-\")\n",
    "plt.annotate(line_eq,(5,15),fontsize=15,color=\"red\")\n",
    "plt.title(f\"Northern Hemisphere - Max Temp vs. Latitude Linear Regression ({today_date})\")\n",
    "plt.xlabel(\"Latitude\")\n",
    "plt.ylabel(\"Max Temprature\")\n",
    "plt.show()\n",
    "\n",
    "# Exporting chart to output folder in png format\n",
    "export_chart = plot_chart.get_figure()\n",
    "file_name = \"NH - Lat Vs Temp Plot.png\"\n",
    "export_chart.savefig(output_dir + file_name)"
   ]
  },
  {
   "cell_type": "markdown",
   "metadata": {},
   "source": [
    "#### Observations\n",
    "* In Northerhemisphere, as we are moving away from equator, temperature is decreasing. This is supported by the regression equation which shows near 1 slope value."
   ]
  },
  {
   "cell_type": "markdown",
   "metadata": {},
   "source": [
    "####  Southern Hemisphere - Max Temp vs. Latitude Linear Regression"
   ]
  },
  {
   "cell_type": "code",
   "execution_count": null,
   "metadata": {
    "scrolled": true
   },
   "outputs": [],
   "source": [
    "# Setting parameters for Linear Regression\n",
    "x_axis = weather_data_s[\"Lat\"]\n",
    "y_axis = weather_data_s[\"Max Temp\"]\n",
    "(slope, intercept, rvalue, pvalue, stderr) = linregress(x_axis, y_axis)\n",
    "\n",
    "# Calculating and storing predicted values from regression equation\n",
    "regress_values = x_axis * slope + intercept\n",
    "line_eq = \"y = \" + str(round(slope,2)) + \"x + \" + str(round(intercept,2))\n",
    "plot_chart = plt.scatter(x_axis,y_axis)\n",
    "plt.plot(x_axis,regress_values,\"r-\")\n",
    "plt.annotate(line_eq,(-55,95),fontsize=15,color=\"red\")\n",
    "plt.title(f\"Southern Hemisphere - Max Temp vs. Latitude Linear Regression ({today_date})\")\n",
    "plt.xlabel(\"Latitude\")\n",
    "plt.ylabel(\"Max Temprature\")\n",
    "plt.show()\n",
    "\n",
    "# Exporting chart to output folder in png format\n",
    "export_chart = plot_chart.get_figure()\n",
    "file_name = \"SH - Lat Vs Temp Plot.png\"\n",
    "export_chart.savefig(output_dir + file_name)"
   ]
  },
  {
   "cell_type": "markdown",
   "metadata": {},
   "source": [
    "#### Observations\n",
    "* In Southern Hemisphere, as we are moving towards Equator, Temp is increasing. It is mirror of the plot for Northern Hemisphere, due to x axis values. The relationship is strong, but not as strong as for Northern Hemisphere."
   ]
  },
  {
   "cell_type": "markdown",
   "metadata": {},
   "source": [
    "####  Northern Hemisphere - Humidity (%) vs. Latitude Linear Regression"
   ]
  },
  {
   "cell_type": "code",
   "execution_count": null,
   "metadata": {},
   "outputs": [],
   "source": [
    "# Setting parameters for Linear Regression\n",
    "x_axis = weather_data_n[\"Lat\"]\n",
    "y_axis = weather_data_n[\"Humidity\"]\n",
    "(slope, intercept, rvalue, pvalue, stderr) = linregress(x_axis, y_axis)\n",
    "\n",
    "# Calculating and storing predicted values from regression equation\n",
    "regress_values = x_axis * slope + intercept\n",
    "line_eq = \"y = \" + str(round(slope,2)) + \"x + \" + str(round(intercept,2))\n",
    "plot_chart = plt.scatter(x_axis,y_axis)\n",
    "plt.plot(x_axis,regress_values,\"r-\")\n",
    "plt.annotate(line_eq,(50,15),fontsize=15,color=\"red\")\n",
    "plt.title(f\"Northern Hemisphere - Humidity(%) vs. Latitude Linear Regression ({today_date})\")\n",
    "plt.xlabel(\"Latitude\")\n",
    "plt.ylabel(\"Humidity(%)\")\n",
    "plt.show()\n",
    "\n",
    "# Exporting chart to output folder in png format\n",
    "export_chart = plot_chart.get_figure()\n",
    "file_name = \"NH - Lat Vs Humidity(%) Plot.png\"\n",
    "export_chart.savefig(output_dir + file_name)"
   ]
  },
  {
   "cell_type": "markdown",
   "metadata": {},
   "source": [
    "#### Observations\n",
    "* There is a slightly positive relationship between Humidity and Latitude. Lower Humidity levels almost disappear at higher latitude values."
   ]
  },
  {
   "cell_type": "markdown",
   "metadata": {},
   "source": [
    "####  Southern Hemisphere - Humidity (%) vs. Latitude Linear Regression"
   ]
  },
  {
   "cell_type": "code",
   "execution_count": null,
   "metadata": {},
   "outputs": [],
   "source": [
    "# Setting parameters for Linear Regression\n",
    "x_axis = weather_data_s[\"Lat\"]\n",
    "y_axis = weather_data_s[\"Humidity\"]\n",
    "(slope, intercept, rvalue, pvalue, stderr) = linregress(x_axis, y_axis)\n",
    "\n",
    "# Calculating and storing predicted values from regression equation\n",
    "regress_values = x_axis * slope + intercept\n",
    "line_eq = \"y = \" + str(round(slope,2)) + \"x + \" + str(round(intercept,2))\n",
    "plot_chart = plt.scatter(x_axis,y_axis)\n",
    "plt.plot(x_axis,regress_values,\"r-\")\n",
    "plt.annotate(line_eq,(-55,15),fontsize=15,color=\"red\")\n",
    "\n",
    "# Setting Chart Display Parameters\n",
    "plt.title(f\"Southern Hemisphere - Humidity(%) vs. Latitude Linear Regression ({today_date})\")\n",
    "plt.xlabel(\"Latitude\")\n",
    "plt.ylabel(\"Humidity(%)\")\n",
    "plt.show()\n",
    "\n",
    "# Exporting chart to output folder in png format\n",
    "export_chart = plot_chart.get_figure()\n",
    "file_name = \"SH - Lat Vs Humidity(%) Plot.png\"\n",
    "export_chart.savefig(output_dir + file_name)"
   ]
  },
  {
   "cell_type": "markdown",
   "metadata": {},
   "source": [
    "#### Observations\n",
    "* This tren is similar to Northern Hemisphere, however the regressin is almost flat, which suggests there is very low probability of prediction of Humidity based on Latitude."
   ]
  },
  {
   "cell_type": "markdown",
   "metadata": {},
   "source": [
    "####  Northern Hemisphere - Cloudiness (%) vs. Latitude Linear Regression"
   ]
  },
  {
   "cell_type": "code",
   "execution_count": null,
   "metadata": {},
   "outputs": [],
   "source": [
    "# Setting parameters for Linear Regression\n",
    "x_axis = weather_data_n[\"Lat\"]\n",
    "y_axis = weather_data_n[\"Cloudiness\"]\n",
    "(slope, intercept, rvalue, pvalue, stderr) = linregress(x_axis, y_axis)\n",
    "\n",
    "# Calculating and storing predicted values from regression equation\n",
    "regress_values = x_axis * slope + intercept\n",
    "line_eq = \"y = \" + str(round(slope,2)) + \"x + \" + str(round(intercept,2))\n",
    "plot_chart = plt.scatter(x_axis,y_axis)\n",
    "plt.plot(x_axis,regress_values,\"r-\")\n",
    "plt.annotate(line_eq,(10,25),fontsize=15,color=\"red\")\n",
    "\n",
    "# Setting Chart Display Parameters\n",
    "plt.title(f\"Northern Hemisphere - Cloudiness(%) vs. Latitude Linear Regression ({today_date})\")\n",
    "plt.xlabel(\"Latitude\")\n",
    "plt.ylabel(\"Cloudiness(%)\")\n",
    "plt.show()\n",
    "\n",
    "# Exporting chart to output folder in png format\n",
    "export_chart = plot_chart.get_figure()\n",
    "file_name = \"NH - Lat Vs Cloudiness(%) Plot.png\"\n",
    "export_chart.savefig(output_dir + file_name)"
   ]
  },
  {
   "cell_type": "markdown",
   "metadata": {},
   "source": [
    "#### Observations\n",
    "* This shows a positive relationship between Latitude and Cloudiness in Northern Hemisphere, that is as we move away from equator, Cloudiness increases."
   ]
  },
  {
   "cell_type": "markdown",
   "metadata": {},
   "source": [
    "####  Southern Hemisphere - Cloudiness (%) vs. Latitude Linear Regression"
   ]
  },
  {
   "cell_type": "code",
   "execution_count": null,
   "metadata": {},
   "outputs": [],
   "source": [
    "# Setting parameters for Linear Regression\n",
    "x_axis = weather_data_s[\"Lat\"]\n",
    "y_axis = weather_data_s[\"Cloudiness\"]\n",
    "(slope, intercept, rvalue, pvalue, stderr) = linregress(x_axis, y_axis)\n",
    "\n",
    "# Calculating and storing predicted values from regression equation\n",
    "regress_values = x_axis * slope + intercept\n",
    "line_eq = \"y = \" + str(round(slope,2)) + \"x + \" + str(round(intercept,2))\n",
    "plot_chart = plt.scatter(x_axis,y_axis)\n",
    "plt.plot(x_axis,regress_values,\"r-\")\n",
    "plt.annotate(line_eq,(-55,30),fontsize=15,color=\"red\")\n",
    "\n",
    "# Setting Chart Display Parameters\n",
    "plt.title(f\"Southern Hemisphere - Cloudiness(%) vs. Latitude Linear Regression ({today_date})\")\n",
    "plt.xlabel(\"Latitude\")\n",
    "plt.ylabel(\"Cloudiness(%)\")\n",
    "plt.show()\n",
    "\n",
    "# Exporting chart to output folder in png format\n",
    "export_chart = plot_chart.get_figure()\n",
    "file_name = \"SH - Lat Vs Cloudiness(%) Plot.png\"\n",
    "export_chart.savefig(output_dir + file_name)"
   ]
  },
  {
   "cell_type": "markdown",
   "metadata": {},
   "source": [
    "#### Observations\n",
    "* Southern Hemisphere following the same trend as Northern Hemisphere, which is with increase in Latitude, there is an increase in Cloudiness."
   ]
  },
  {
   "cell_type": "markdown",
   "metadata": {},
   "source": [
    "####  Northern Hemisphere - Wind Speed (mph) vs. Latitude Linear Regression"
   ]
  },
  {
   "cell_type": "code",
   "execution_count": null,
   "metadata": {},
   "outputs": [],
   "source": [
    "# Setting parameters for Linear Regression\n",
    "x_axis = weather_data_n[\"Lat\"]\n",
    "y_axis = weather_data_n[\"Windspeed\"]\n",
    "(slope, intercept, rvalue, pvalue, stderr) = linregress(x_axis, y_axis)\n",
    "\n",
    "# Calculating and storing predicted values from regression equation\n",
    "regress_values = x_axis * slope + intercept\n",
    "line_eq = \"y = \" + str(round(slope,2)) + \"x + \" + str(round(intercept,2))\n",
    "plot_chart = plt.scatter(x_axis,y_axis)\n",
    "plt.plot(x_axis,regress_values,\"r-\")\n",
    "plt.annotate(line_eq,(5,25),fontsize=15,color=\"red\")\n",
    "\n",
    "# Setting Chart Display Parameters\n",
    "plt.title(f\"Northern Hemisphere - Wind Speed (mph) vs. Latitude Linear Regression ({today_date})\")\n",
    "plt.xlabel(\"Latitude\")\n",
    "plt.ylabel(\"Wind Speed (mph)\")\n",
    "plt.show()\n",
    "\n",
    "# Exporting chart to output folder in png format\n",
    "export_chart = plot_chart.get_figure()\n",
    "file_name = \"NH - Lat Vs Wind Speed (mph) Plot.png\"\n",
    "export_chart.savefig(output_dir + file_name)"
   ]
  },
  {
   "cell_type": "markdown",
   "metadata": {},
   "source": [
    "#### Observations\n",
    "* There is no correlation between Windspeed and Latitude. Slope of line is near 0."
   ]
  },
  {
   "cell_type": "markdown",
   "metadata": {},
   "source": [
    "####  Southern Hemisphere - Wind Speed (mph) vs. Latitude Linear Regression"
   ]
  },
  {
   "cell_type": "code",
   "execution_count": null,
   "metadata": {},
   "outputs": [],
   "source": [
    "# Setting parameters for Linear Regression\n",
    "x_axis = weather_data_s[\"Lat\"]\n",
    "y_axis = weather_data_s[\"Windspeed\"]\n",
    "(slope, intercept, rvalue, pvalue, stderr) = linregress(x_axis, y_axis)\n",
    "\n",
    "# Calculating and storing predicted values from regression equation\n",
    "regress_values = x_axis * slope + intercept\n",
    "line_eq = \"y = \" + str(round(slope,2)) + \"x + \" + str(round(intercept,2))\n",
    "plot_chart = plt.scatter(x_axis,y_axis)\n",
    "plt.plot(x_axis,regress_values,\"r-\")\n",
    "plt.annotate(line_eq,(-50,20),fontsize=15,color=\"red\")\n",
    "\n",
    "# Setting Chart Display Parameters\n",
    "plt.title(f\"Southern Hemisphere - Wind Speed (mph) vs. Latitude Linear Regression ({today_date})\")\n",
    "plt.xlabel(\"Latitude\")\n",
    "plt.ylabel(\"Wind Speed (mph)\")\n",
    "plt.show()\n",
    "\n",
    "# Exporting chart to output folder in png format\n",
    "export_chart = plot_chart.get_figure()\n",
    "file_name = \"SH - Lat Vs Wind Speed (mph) Plot.png\"\n",
    "export_chart.savefig(output_dir + file_name)"
   ]
  },
  {
   "cell_type": "markdown",
   "metadata": {},
   "source": [
    "#### Observations\n",
    "* Resutls are similar to Norther Hemisphere. There is no correlation between Windspeed and Latitude."
   ]
  }
 ],
 "metadata": {
  "anaconda-cloud": {},
  "kernel_info": {
   "name": "python3"
  },
  "kernelspec": {
   "display_name": "Python 3",
   "language": "python",
   "name": "python3"
  },
  "language_info": {
   "codemirror_mode": {
    "name": "ipython",
    "version": 3
   },
   "file_extension": ".py",
   "mimetype": "text/x-python",
   "name": "python",
   "nbconvert_exporter": "python",
   "pygments_lexer": "ipython3",
   "version": "3.8.3"
  },
  "latex_envs": {
   "LaTeX_envs_menu_present": true,
   "autoclose": false,
   "autocomplete": true,
   "bibliofile": "biblio.bib",
   "cite_by": "apalike",
   "current_citInitial": 1,
   "eqLabelWithNumbers": true,
   "eqNumInitial": 1,
   "hotkeys": {
    "equation": "Ctrl-E",
    "itemize": "Ctrl-I"
   },
   "labels_anchors": false,
   "latex_user_defs": false,
   "report_style_numbering": false,
   "user_envs_cfg": false
  },
  "nteract": {
   "version": "0.12.3"
  }
 },
 "nbformat": 4,
 "nbformat_minor": 2
}
